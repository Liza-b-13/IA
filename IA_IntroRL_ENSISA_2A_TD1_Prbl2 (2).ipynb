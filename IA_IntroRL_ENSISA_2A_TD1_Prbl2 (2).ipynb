{
  "cells": [
    {
      "cell_type": "markdown",
      "metadata": {
        "id": "JIuzZH7gj7Yu"
      },
      "source": [
        "\n",
        "\n",
        "> Import libraries to use\n",
        "\n"
      ]
    },
    {
      "cell_type": "code",
      "execution_count": 7,
      "metadata": {
        "id": "1n-L9pacjmBA"
      },
      "outputs": [],
      "source": [
        "import numpy as np"
      ]
    },
    {
      "cell_type": "markdown",
      "metadata": {
        "id": "i38qZPSHmDVs"
      },
      "source": [
        ">  # Introduction to numpy (Skip if you already are familiar)"
      ]
    },
    {
      "cell_type": "markdown",
      "metadata": {
        "id": "-wFkLk1kmeIn"
      },
      "source": [
        ">> Creating a 1D array"
      ]
    },
    {
      "cell_type": "code",
      "execution_count": null,
      "metadata": {
        "colab": {
          "base_uri": "https://localhost:8080/"
        },
        "id": "E-o1XD0Qmgxk",
        "outputId": "a08bed3b-7756-4af2-9fa5-36b9bdb464a2"
      },
      "outputs": [
        {
          "name": "stdout",
          "output_type": "stream",
          "text": [
            "[1 2 3 4]\n"
          ]
        }
      ],
      "source": [
        "a = np.array([1,2,3,4])\n",
        "print(a)"
      ]
    },
    {
      "cell_type": "markdown",
      "metadata": {
        "id": "DWh4Q90Gmh32"
      },
      "source": [
        ">> Creating a 2D array\n"
      ]
    },
    {
      "cell_type": "code",
      "execution_count": null,
      "metadata": {
        "colab": {
          "base_uri": "https://localhost:8080/"
        },
        "id": "mOS0jF1AmjTX",
        "outputId": "b84f0070-d2ad-47cf-af20-37942d79f924"
      },
      "outputs": [
        {
          "name": "stdout",
          "output_type": "stream",
          "text": [
            "[[1 2]\n",
            " [3 4]]\n"
          ]
        }
      ],
      "source": [
        "a = np.array([[1,2],[3,4]])\n",
        "print(a)"
      ]
    },
    {
      "cell_type": "markdown",
      "metadata": {
        "id": "4Z_7BfvcmoPA"
      },
      "source": [
        ">> Creating an array full of zeros\n"
      ]
    },
    {
      "cell_type": "code",
      "execution_count": null,
      "metadata": {
        "colab": {
          "base_uri": "https://localhost:8080/"
        },
        "id": "KdGvmJ7gmFrF",
        "outputId": "09c3032d-5278-412c-b214-5ca46238963d"
      },
      "outputs": [
        {
          "name": "stdout",
          "output_type": "stream",
          "text": [
            "[0. 0. 0. 0. 0. 0. 0. 0. 0. 0.]\n",
            "[[0. 0.]\n",
            " [0. 0.]\n",
            " [0. 0.]\n",
            " [0. 0.]\n",
            " [0. 0.]]\n"
          ]
        }
      ],
      "source": [
        "a = np.zeros(shape=(10))\n",
        "print(a)\n",
        "a = np.zeros(shape=(5,2))\n",
        "print(a)"
      ]
    },
    {
      "cell_type": "markdown",
      "metadata": {
        "id": "kV2byWmWmr9g"
      },
      "source": [
        ">> Infinity in numpy"
      ]
    },
    {
      "cell_type": "code",
      "execution_count": null,
      "metadata": {
        "colab": {
          "base_uri": "https://localhost:8080/"
        },
        "id": "9SMPoECVmygc",
        "outputId": "d2692d34-b335-42b5-a102-4cc133e470eb"
      },
      "outputs": [
        {
          "name": "stdout",
          "output_type": "stream",
          "text": [
            "inf\n"
          ]
        }
      ],
      "source": [
        "print(np.inf)"
      ]
    },
    {
      "cell_type": "markdown",
      "metadata": {
        "id": "FCi8vs49mz44"
      },
      "source": [
        ">> Max and Argmax"
      ]
    },
    {
      "cell_type": "code",
      "execution_count": null,
      "metadata": {
        "colab": {
          "base_uri": "https://localhost:8080/"
        },
        "id": "Ailb-V76nSqc",
        "outputId": "ff8ae717-cb83-4ea4-ea4b-7d8b479e14be"
      },
      "outputs": [
        {
          "name": "stdout",
          "output_type": "stream",
          "text": [
            "4\n",
            "2\n"
          ]
        }
      ],
      "source": [
        "a = np.array([2,1,4,3])\n",
        "print(np.max(a))\n",
        "print(np.argmax(a))"
      ]
    },
    {
      "cell_type": "markdown",
      "metadata": {
        "id": "6XpkQzTfnXMU"
      },
      "source": [
        ">> From list to Numpy"
      ]
    },
    {
      "cell_type": "code",
      "execution_count": null,
      "metadata": {
        "colab": {
          "base_uri": "https://localhost:8080/"
        },
        "id": "3wdFdBaOncQI",
        "outputId": "ed7c0968-c330-417a-81c4-1b8542b8c8c1"
      },
      "outputs": [
        {
          "name": "stdout",
          "output_type": "stream",
          "text": [
            "[1, 2, 3, 4]\n",
            "[1 2 3 4]\n"
          ]
        }
      ],
      "source": [
        "l = [1,2,3,4]\n",
        "print(l)\n",
        "print(np.asarray(l))"
      ]
    },
    {
      "cell_type": "markdown",
      "metadata": {
        "id": "PgNawY2LngKt"
      },
      "source": [
        ">> Random in numpy"
      ]
    },
    {
      "cell_type": "code",
      "execution_count": null,
      "metadata": {
        "colab": {
          "base_uri": "https://localhost:8080/"
        },
        "id": "tyopXlWsnjK1",
        "outputId": "dbc89a33-fd53-4bfb-f98f-ec300383bab9"
      },
      "outputs": [
        {
          "name": "stdout",
          "output_type": "stream",
          "text": [
            "[[4 9]\n",
            " [8 5]\n",
            " [4 2]\n",
            " [3 7]\n",
            " [8 6]]\n"
          ]
        }
      ],
      "source": [
        "# Array of Random integers ranging from 1 to 10 (with any size you want)\n",
        "a = np.random.randint(low=1, high=10, size=(5,2))\n",
        "print(a)\n",
        "\n",
        "# Array of random elements of a list with any size you want\n",
        "a = np.random.choice([0,1,2], size=(2,))"
      ]
    },
    {
      "cell_type": "markdown",
      "metadata": {
        "id": "abjqoNDSoAD6"
      },
      "source": [
        ">> Shapes in numpy"
      ]
    },
    {
      "cell_type": "code",
      "execution_count": null,
      "metadata": {
        "colab": {
          "base_uri": "https://localhost:8080/"
        },
        "id": "vN2gUoZEoCbE",
        "outputId": "aa81f0a5-e281-4eca-a51a-bb0f1ef5df9f"
      },
      "outputs": [
        {
          "name": "stdout",
          "output_type": "stream",
          "text": [
            "(4, 2)\n",
            "[[3 2]\n",
            " [4 1]\n",
            " [3 4]\n",
            " [1 2]]\n",
            "(8, 1)\n",
            "[[3]\n",
            " [2]\n",
            " [4]\n",
            " [1]\n",
            " [3]\n",
            " [4]\n",
            " [1]\n",
            " [2]]\n"
          ]
        }
      ],
      "source": [
        "a = np.random.randint(low=1, high=5, size=(4,2))\n",
        "print(a.shape)\n",
        "print(a)\n",
        "\n",
        "# Reshape a to a vector of shape = (8,1)\n",
        "a = a.reshape((8,1))\n",
        "print(a.shape)\n",
        "print(a)"
      ]
    },
    {
      "cell_type": "markdown",
      "metadata": {
        "id": "ekYrPhAGkAfM"
      },
      "source": [
        "# Pre-defined utilities"
      ]
    },
    {
      "cell_type": "code",
      "execution_count": 1,
      "metadata": {
        "id": "3kXEezQ_jnoP"
      },
      "outputs": [],
      "source": [
        "\n",
        "int_to_char = {\n",
        "    0 : 'u',\n",
        "    1 : 'r',\n",
        "    2 : 'd',\n",
        "    3 : 'l'\n",
        "}\n",
        "\n",
        "policy_one_step_look_ahead = {\n",
        "    0 : [-1,0],\n",
        "    1 : [0,1],\n",
        "    2 : [1,0],\n",
        "    3 : [0,-1]\n",
        "}\n",
        "\n",
        "def policy_int_to_char(pi,n):\n",
        "\n",
        "    pi_char = ['']\n",
        "\n",
        "    for i in range(n):\n",
        "        for j in range(n):\n",
        "\n",
        "            if i == 0 and j == 0 or i == n-1 and j == n-1:\n",
        "\n",
        "                continue\n",
        "\n",
        "            pi_char.append(int_to_char[pi[i,j]])\n",
        "\n",
        "    pi_char.append('')\n",
        "\n",
        "    return np.asarray(pi_char).reshape(n,n)"
      ]
    },
    {
      "cell_type": "markdown",
      "metadata": {
        "id": "3zlRobQekELk"
      },
      "source": [
        "# 1- Policy evaluation"
      ]
    },
    {
      "cell_type": "code",
      "execution_count": 2,
      "metadata": {
        "id": "N7_2lpTAkHAJ"
      },
      "outputs": [],
      "source": [
        "def policy_evaluation(n,pi,v,Gamma,threshhold):\n",
        "  \"\"\"\n",
        "    This function should return the value function that follows the policy pi.\n",
        "    Use the stopping criteria given in the problem statement.\n",
        "  \"\"\"\n",
        "  while True:\n",
        "    delta = 0\n",
        "    for i in range(n):\n",
        "      for j in range(n):\n",
        "        if (i == 0 and j == 0) or (i == n - 1 and j == n - 1):\n",
        "          continue\n",
        "        old_value = v[i, j]\n",
        "        direction = policy_one_step_look_ahead[pi[i, j]]\n",
        "        next_i, next_j = i + direction[0], j + direction[1]\n",
        "\n",
        "        if 0 <= next_i < n and 0 <= next_j < n:\n",
        "          v[i, j] = -1 + Gamma * v[next_i, next_j]\n",
        "        else:\n",
        "          v[i, j] = -1  # If out of bounds, assign a fixed penalty\n",
        "\n",
        "        delta = max(delta, abs(old_value - v[i, j]))\n",
        "\n",
        "    if delta < threshhold:\n",
        "      break\n",
        "\n",
        "  return v"
      ]
    },
    {
      "cell_type": "markdown",
      "metadata": {
        "id": "id0Re9bnkWRP"
      },
      "source": [
        "# 2- Policy improvement"
      ]
    },
    {
      "cell_type": "code",
      "execution_count": 3,
      "metadata": {
        "id": "eC8zswV7kZPF"
      },
      "outputs": [],
      "source": [
        "def policy_improvement(n,pi,v,Gamma):\n",
        "  \"\"\"\n",
        "    This function should return the new policy by acting in a greedy manner.\n",
        "    The function should return as well a flag indicating if the output policy\n",
        "    is the same as the input policy.\n",
        "\n",
        "    Example:\n",
        "      return new_pi, True if new_pi = pi for all states\n",
        "      else return new_pi, False\n",
        "  \"\"\"\n",
        "  policy_stable = True\n",
        "  new_pi = np.copy(pi)\n",
        "\n",
        "  for i in range(n):\n",
        "    for j in range(n):\n",
        "      if (i == 0 and j == 0) or (i == n - 1 and j == n - 1):\n",
        "        continue\n",
        "\n",
        "\n",
        "      best_value = float('-inf')\n",
        "      best_action = None\n",
        "\n",
        "      for action in range(4):\n",
        "        direction = policy_one_step_look_ahead[action]\n",
        "        next_i, next_j = i + direction[0], j + direction[1]\n",
        "\n",
        "        if 0 <= next_i < n and 0 <= next_j < n:\n",
        "          value = -1 + Gamma * v[next_i, next_j]\n",
        "        else:\n",
        "          value = -1\n",
        "\n",
        "        if value > best_value:\n",
        "          best_value = value\n",
        "          best_action = action\n",
        "\n",
        "      if best_action != pi[i, j]:\n",
        "          policy_stable = False\n",
        "      new_pi[i, j] = best_action\n",
        "\n",
        "  return new_pi, policy_stable"
      ]
    },
    {
      "cell_type": "markdown",
      "metadata": {
        "id": "1rJLFmZYk0I1"
      },
      "source": [
        "# 3- Policy Initialization"
      ]
    },
    {
      "cell_type": "code",
      "execution_count": 4,
      "metadata": {
        "id": "xpuOHJeIk2K_"
      },
      "outputs": [],
      "source": [
        "def policy_initialization(n):\n",
        "  \"\"\"\n",
        "    This function should return the initial random policy for all states.\n",
        "  \"\"\"\n",
        "  return np.random.choice([0, 1, 2, 3], size=(n, n))"
      ]
    },
    {
      "cell_type": "markdown",
      "metadata": {
        "id": "rfeVN5fQlBt8"
      },
      "source": [
        "# 4- Policy Iteration algorithm"
      ]
    },
    {
      "cell_type": "code",
      "execution_count": 5,
      "metadata": {
        "id": "g7hnjz0PlFD4"
      },
      "outputs": [],
      "source": [
        "def policy_iteration(n,Gamma,threshhold):\n",
        "\n",
        "    pi = policy_initialization(n=n)\n",
        "\n",
        "    v = np.zeros(shape=(n,n))\n",
        "\n",
        "    while True:\n",
        "\n",
        "        v = policy_evaluation(n=n,v=v,pi=pi,threshhold=threshhold,Gamma=Gamma)\n",
        "\n",
        "        pi , pi_stable = policy_improvement(n=n,pi=pi,v=v,Gamma=Gamma)\n",
        "\n",
        "        if pi_stable:\n",
        "\n",
        "            break\n",
        "\n",
        "    return pi , v"
      ]
    },
    {
      "cell_type": "markdown",
      "metadata": {
        "id": "8FvleqV5onq9"
      },
      "source": [
        "# Main Code to Test"
      ]
    },
    {
      "cell_type": "code",
      "execution_count": null,
      "metadata": {
        "colab": {
          "base_uri": "https://localhost:8080/"
        },
        "id": "hntGpzW-jZk3",
        "outputId": "b8696313-a28d-4156-cb2d-2524f67638d3"
      },
      "outputs": [
        {
          "output_type": "stream",
          "name": "stdout",
          "text": [
            "\n",
            "Gamma =  0.8\n",
            "\n",
            "[['' 'u' 'u' 'u']\n",
            " ['u' 'u' 'u' 'r']\n",
            " ['l' 'd' 'r' 'r']\n",
            " ['d' 'd' 'r' '']]\n",
            "\n",
            "\n",
            "[[ 0.  -1.  -1.  -1. ]\n",
            " [-1.  -1.8 -1.8 -1. ]\n",
            " [-1.  -1.8 -1.8 -1. ]\n",
            " [-1.  -1.  -1.   0. ]]\n",
            "\n",
            "Gamma =  0.9\n",
            "\n",
            "[['' 'u' 'u' 'u']\n",
            " ['u' 'u' 'u' 'r']\n",
            " ['l' 'd' 'r' 'r']\n",
            " ['d' 'd' 'r' '']]\n",
            "\n",
            "\n",
            "[[ 0.  -1.  -1.  -1. ]\n",
            " [-1.  -1.9 -1.9 -1. ]\n",
            " [-1.  -1.9 -1.9 -1. ]\n",
            " [-1.  -1.  -1.   0. ]]\n"
          ]
        }
      ],
      "source": [
        "n = 4\n",
        "\n",
        "Gamma = [0.8,0.9,1]\n",
        "\n",
        "threshhold = 1e-3\n",
        "\n",
        "for _gamma in Gamma:\n",
        "\n",
        "    pi , v = policy_iteration(n=n,Gamma=_gamma,threshhold=threshhold)\n",
        "\n",
        "    pi_char = policy_int_to_char(n=n,pi=pi)\n",
        "\n",
        "    print()\n",
        "    print(\"Gamma = \",_gamma)\n",
        "\n",
        "    print()\n",
        "\n",
        "    print(pi_char)\n",
        "\n",
        "    print()\n",
        "    print()\n",
        "\n",
        "    print(v)\n"
      ]
    }
  ],
  "metadata": {
    "colab": {
      "collapsed_sections": [
        "i38qZPSHmDVs"
      ],
      "provenance": []
    },
    "kernelspec": {
      "display_name": "Python 3",
      "name": "python3"
    },
    "language_info": {
      "name": "python"
    }
  },
  "nbformat": 4,
  "nbformat_minor": 0
}